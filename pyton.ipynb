{
 "cells": [
  {
   "cell_type": "code",
   "execution_count": 1,
   "id": "a4503ab5-d481-4a70-b0c6-395b8eb68a58",
   "metadata": {},
   "outputs": [
    {
     "name": "stdout",
     "output_type": "stream",
     "text": [
      "Rida\n"
     ]
    }
   ],
   "source": [
    "print(\"Rida\");\n"
   ]
  },
  {
   "cell_type": "code",
   "execution_count": 3,
   "id": "7e604eed-8f9b-4e5a-8f05-4b7ed66095a6",
   "metadata": {},
   "outputs": [
    {
     "name": "stdout",
     "output_type": "stream",
     "text": [
      "24\n"
     ]
    }
   ],
   "source": [
    "x = 12\n",
    "y=12\n",
    "sum = x+y\n",
    "print(sum)\n"
   ]
  },
  {
   "cell_type": "code",
   "execution_count": 5,
   "id": "826a2ba7-d1da-46c3-8e6a-90e032c87ad4",
   "metadata": {},
   "outputs": [
    {
     "ename": "AttributeError",
     "evalue": "'str' object has no attribute 'len'",
     "output_type": "error",
     "traceback": [
      "\u001b[1;31m---------------------------------------------------------------------------\u001b[0m",
      "\u001b[1;31mAttributeError\u001b[0m                            Traceback (most recent call last)",
      "Cell \u001b[1;32mIn[5], line 2\u001b[0m\n\u001b[0;32m      1\u001b[0m \u001b[38;5;28mstr\u001b[39m \u001b[38;5;241m=\u001b[39m \u001b[38;5;124m\"\u001b[39m\u001b[38;5;124mRida\u001b[39m\u001b[38;5;124m\"\u001b[39m\n\u001b[1;32m----> 2\u001b[0m \u001b[38;5;28mstr\u001b[39m\u001b[38;5;241m.\u001b[39mlen\n",
      "\u001b[1;31mAttributeError\u001b[0m: 'str' object has no attribute 'len'"
     ]
    }
   ],
   "source": [
    "str = \"Rida\"\n",
    "str.len"
   ]
  },
  {
   "cell_type": "code",
   "execution_count": null,
   "id": "79f76adc-0ed3-4f33-9f0f-92212a9600ea",
   "metadata": {},
   "outputs": [],
   "source": [
    "num = int(input(\"Number : \"))\n",
    "if(num%2==0):\n",
    "    print(\"even\")\n",
    "else:\n",
    "    print(\"odd\")\n",
    "    \n"
   ]
  },
  {
   "cell_type": "code",
   "execution_count": null,
   "id": "458ee752-4f8b-4db9-a832-baaa1f4af194",
   "metadata": {},
   "outputs": [],
   "source": [
    "list=[1,2,\"Python\",false,12,21]"
   ]
  },
  {
   "cell_type": "code",
   "execution_count": null,
   "id": "7a495efe-395c-4f79-9c83-8b374f33ff1b",
   "metadata": {},
   "outputs": [],
   "source": []
  }
 ],
 "metadata": {
  "kernelspec": {
   "display_name": "Python 3 (ipykernel)",
   "language": "python",
   "name": "python3"
  },
  "language_info": {
   "codemirror_mode": {
    "name": "ipython",
    "version": 3
   },
   "file_extension": ".py",
   "mimetype": "text/x-python",
   "name": "python",
   "nbconvert_exporter": "python",
   "pygments_lexer": "ipython3",
   "version": "3.12.4"
  }
 },
 "nbformat": 4,
 "nbformat_minor": 5
}
